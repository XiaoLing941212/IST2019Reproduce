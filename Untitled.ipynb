{
 "cells": [
  {
   "cell_type": "code",
   "execution_count": 1,
   "id": "treated-teach",
   "metadata": {},
   "outputs": [],
   "source": [
    "from scipy import io\n",
    "import matplotlib.pyplot as plt\n",
    "from function import allTestCases_Infinite, fitnessFunctionTime_detectedMutants, costFunction, constructSystem\n",
    "import numpy as np\n",
    "from metric import calcHV, calcMSTET\n",
    "import time\n",
    "from nsga2 import generate_pop, generate_pop1, breed_population, score_population, build_pareto_population\n",
    "from sway import sway_runner\n",
    "import statistics\n",
    "import random"
   ]
  },
  {
   "cell_type": "code",
   "execution_count": 2,
   "id": "sonic-greene",
   "metadata": {},
   "outputs": [],
   "source": [
    "def loadTCDData(project):\n",
    "    if project == \"Twotanks\":\n",
    "        filePath = \"/mnt/e/Research/IST2019Paper/IST2019PY/data/\" + str(project) + \"/TCData.mat\"\n",
    "    elif project == \"ACEngine\":\n",
    "        filePath = \"/mnt/e/Research/IST2019Paper/IST2019PY/data/\" + str(project) + \"/FDC_DATA.mat\"\n",
    "    elif project == \"EMB\":\n",
    "        filePath = \"/mnt/e/Research/IST2019Paper/IST2019PY/data/\" + str(project) + \"/BlackBoxMetrics_2.mat\"\n",
    "    elif project == \"CW\":\n",
    "        filePath = \"/mnt/e/Research/IST2019Paper/IST2019PY/data/\" + str(project) + \"/TC_time.mat\"\n",
    "    \n",
    "    return io.loadmat(filePath)"
   ]
  },
  {
   "cell_type": "code",
   "execution_count": 3,
   "id": "third-census",
   "metadata": {},
   "outputs": [],
   "source": [
    "def time_func(time_metric, activationArray, number_tc):\n",
    "    time = 0\n",
    "    total_time = 0\n",
    "\n",
    "    for i in range(number_tc):\n",
    "        total_time += time_metric[i]\n",
    "\n",
    "        if activationArray[i] == 1:\n",
    "            time += time_metric[i]\n",
    "    \n",
    "    return time/total_time\n",
    "\n",
    "def score_population_1(population, time_metric, number_tc, project):\n",
    "#     scores = []\n",
    "\n",
    "#     for item in population:\n",
    "#         scores.append([time_func(time_metric, item, number_tc), allTestCases_Infinite(project, item)])\n",
    "    \n",
    "#     return np.array(scores)\n",
    "\n",
    "    return [time_func(time_metric, population, number_tc), allTestCases_Infinite(project, population)]"
   ]
  },
  {
   "cell_type": "code",
   "execution_count": 4,
   "id": "duplicate-weight",
   "metadata": {},
   "outputs": [],
   "source": [
    "def identify_pareto_1(scores):\n",
    "    population_size = scores.shape[0]\n",
    "    population_ids = np.arange(population_size)\n",
    "    \n",
    "    pareto_front = np.ones(population_size, dtype=bool)\n",
    "    \n",
    "    for i in range(population_size):\n",
    "        for j in range(population_size):\n",
    "            if all(scores[j] <= scores[i]) and any(scores[j] < scores[i]):\n",
    "                pareto_front[i] = 0\n",
    "                break\n",
    "    \n",
    "    return population_ids[pareto_front]"
   ]
  },
  {
   "cell_type": "code",
   "execution_count": 5,
   "id": "cardiovascular-guide",
   "metadata": {},
   "outputs": [],
   "source": [
    "### run this for matlab generated nsga2 population\n",
    "project = \"CW\"\n",
    "\n",
    "# set param for each project\n",
    "if project == \"Twotanks\":\n",
    "    TCD = loadTCDData(project)\n",
    "    nInputs, nOutputs = 11, 7\n",
    "    number_tc = 150\n",
    "    time_metric = [TCD['TCData'][0][i][0][0][0] for i in range(number_tc)]\n",
    "elif project == \"ACEngine\":\n",
    "    TCD = loadTCDData(project)\n",
    "    nInputs, nOutputs = 4, 1\n",
    "    number_tc = 120\n",
    "    time_metric = [TCD['test_case'][0][i][1][0][0] for i in range(number_tc)]\n",
    "elif project == \"EMB\":\n",
    "    TCD = loadTCDData(project)\n",
    "    nInputs, nOutputs = 1, 1\n",
    "    number_tc = 150\n",
    "    time_metric = [TCD['TCData'][0][i][0][0][-1][0][0] for i in range(number_tc)]\n",
    "elif project == \"CW\":\n",
    "    TCD = loadTCDData(project)\n",
    "    nInputs, nOutputs = 15, 4\n",
    "    number_tc = 133\n",
    "    time_metric = [TCD['time_testCases'][i][0] for i in range(number_tc)]\n",
    "\n",
    "population = io.loadmat(\"pop.mat\")['population']\n",
    "scores = score_population_1(population, time_metric, number_tc, project)"
   ]
  },
  {
   "cell_type": "code",
   "execution_count": 402,
   "id": "gorgeous-surge",
   "metadata": {},
   "outputs": [
    {
     "name": "stdout",
     "output_type": "stream",
     "text": [
      "generation  0\n",
      "generation  10\n",
      "generation  20\n",
      "generation  30\n",
      "generation  40\n",
      "generation  50\n",
      "generation  60\n",
      "generation  70\n",
      "generation  80\n",
      "generation  90\n",
      "generation  100\n",
      "generation  110\n",
      "generation  120\n",
      "generation  130\n",
      "generation  140\n",
      "generation  150\n",
      "generation  160\n",
      "generation  170\n",
      "generation  180\n",
      "generation  190\n",
      "generation  200\n",
      "generation  210\n",
      "generation  220\n",
      "generation  230\n",
      "generation  240\n",
      "time,  77.20182251930237\n"
     ]
    }
   ],
   "source": [
    "### run this for python script generated nsga2 population\n",
    "# set project and read TCD data\n",
    "project = \"EMB\"\n",
    "\n",
    "# set param for each project\n",
    "if project == \"Twotanks\":\n",
    "    TCD = loadTCDData(project)\n",
    "    nInputs, nOutputs = 11, 7\n",
    "    number_tc = 150\n",
    "    time_metric = [TCD['TCData'][0][i][0][0][0] for i in range(number_tc)]\n",
    "elif project == \"ACEngine\":\n",
    "    TCD = loadTCDData(project)\n",
    "    nInputs, nOutputs = 4, 1\n",
    "    number_tc = 120\n",
    "    time_metric = [TCD['test_case'][0][i][1][0][0] for i in range(number_tc)]\n",
    "elif project == \"EMB\":\n",
    "    TCD = loadTCDData(project)\n",
    "    nInputs, nOutputs = 1, 1\n",
    "    number_tc = 150\n",
    "    time_metric = [TCD['TCData'][0][i][0][0][-1][0][0] for i in range(number_tc)]\n",
    "elif project == \"CW\":\n",
    "    TCD = loadTCDData(project)\n",
    "    nInputs, nOutputs = 15, 4\n",
    "    number_tc = 133\n",
    "    time_metric = [TCD['time_testCases'][i][0] for i in range(number_tc)]\n",
    "\n",
    "pop_size = 100\n",
    "max_gen = 250\n",
    "\n",
    "# create starting population\n",
    "# number_tc = 150\n",
    "population = np.array(generate_pop(pop_size, number_tc))\n",
    "\n",
    "start_time = time.time()\n",
    "# nsga ii algorithm\n",
    "for generation in range(max_gen):\n",
    "    if generation % 10 == 0:\n",
    "        print(\"generation \", generation)\n",
    "\n",
    "    population = breed_population(population)\n",
    "\n",
    "    # score population\n",
    "    scores = score_population(population, time_metric, number_tc, project)\n",
    "\n",
    "    # build pareto front\n",
    "    population = build_pareto_population(population, scores, pop_size)\n",
    "    \n",
    "    # calcu median\n",
    "    check_scores = []\n",
    "    for pop in population:\n",
    "        check_scores.append(costFunction(pop, time_metric, number_tc, project, [], [], [], []))\n",
    "        \n",
    "#     median = []\n",
    "#     for i in range(len(check_scores[0])):\n",
    "#         median.append(statistics.median([check_scores[j][i] for j in range(len(check_scores))]))\n",
    "    \n",
    "\n",
    "# get final pareto front\n",
    "scores = score_population(population, time_metric, number_tc, project)\n",
    "population_nsga2 = population\n",
    "# pareto_front = identify_pareto_1(scores)\n",
    "end_time = time.time()\n",
    "print(\"time, \", end_time-start_time)"
   ]
  },
  {
   "cell_type": "code",
   "execution_count": 403,
   "id": "universal-jacksonville",
   "metadata": {},
   "outputs": [
    {
     "name": "stdout",
     "output_type": "stream",
     "text": [
      "[0.35, 0.49, 0.49, 0.56, 0.49]\n",
      "0.3547917324630663\n",
      "0.0\n"
     ]
    }
   ],
   "source": [
    "tt_scores = []\n",
    "for pop in population:\n",
    "    tt_scores.append(costFunction(pop, time_metric, number_tc, project, [], [], [], []))\n",
    "\n",
    "tt_mean = []\n",
    "for i in range(len(tt_scores[0])):\n",
    "    if i == 0:\n",
    "        tt_mean.append(round(statistics.mean([tt_scores[j][i] for j in range(len(scores))]), 2))\n",
    "    else:\n",
    "        tt_mean.append(round(statistics.mean([tt_scores[j][i] for j in range(len(scores))]), 2))\n",
    "\n",
    "print(tt_mean)\n",
    "\n",
    "G1 = []\n",
    "time1 = []\n",
    "mutantScore1 = []\n",
    "for item in population_nsga2:\n",
    "    t, m = fitnessFunctionTime_detectedMutants(item, time_metric, project)\n",
    "    time1.append(t)\n",
    "    mutantScore1.append(m)\n",
    "    G1.append([t, m])\n",
    "P = []\n",
    "\n",
    "print(statistics.mean(time1))\n",
    "print(statistics.mean(mutantScore1))"
   ]
  },
  {
   "cell_type": "code",
   "execution_count": 471,
   "id": "constant-subdivision",
   "metadata": {},
   "outputs": [
    {
     "name": "stdout",
     "output_type": "stream",
     "text": [
      "starting sway\n",
      "time,  1.2167942523956299\n"
     ]
    }
   ],
   "source": [
    "def generate_scores(pop_size):\n",
    "    population = []\n",
    "    \n",
    "    for i in range(pop_size):\n",
    "        population.append([[], [random.uniform(0.15, 1) for _ in range(5)]])\n",
    "    \n",
    "    return population\n",
    "\n",
    "### run this to use sway with no evolutionary\n",
    "# set project and read TCD data\n",
    "project = \"EMB\"\n",
    "\n",
    "# set param for each project\n",
    "if project == \"Twotanks\":\n",
    "    TCD = loadTCDData(project)\n",
    "    nInputs, nOutputs = 11, 7\n",
    "    number_tc = 150\n",
    "    time_metric = [TCD['TCData'][0][i][0][0][0] for i in range(number_tc)]\n",
    "elif project == \"ACEngine\":\n",
    "    TCD = loadTCDData(project)\n",
    "    nInputs, nOutputs = 4, 1\n",
    "    number_tc = 120\n",
    "    time_metric = [TCD['test_case'][0][i][1][0][0] for i in range(number_tc)]\n",
    "elif project == \"EMB\":\n",
    "    TCD = loadTCDData(project)\n",
    "    nInputs, nOutputs = 1, 1\n",
    "    number_tc = 150\n",
    "    time_metric = [TCD['TCData'][0][i][0][0][-1][0][0] for i in range(number_tc)]\n",
    "elif project == \"CW\":\n",
    "    TCD = loadTCDData(project)\n",
    "    nInputs, nOutputs = 15, 4\n",
    "    number_tc = 133\n",
    "    time_metric = [TCD['time_testCases'][i][0] for i in range(number_tc)]\n",
    "    \n",
    "pop_size = 10000\n",
    "\n",
    "# create starting population\n",
    "# number_tc = 150\n",
    "sway_scores = generate_scores(pop_size)\n",
    "\n",
    "# get data\n",
    "sumTime, sumDerivative, sumInfinite, sumInstability, sumMinmax, A = constructSystem(project, number_tc, time_metric)\n",
    "\n",
    "start_time = time.time()\n",
    "print(\"starting sway\")\n",
    "new_res = sway_runner(sway_scores)\n",
    "\n",
    "from scipy.optimize import nnls\n",
    "from scipy.optimize import lsq_linear\n",
    "\n",
    "new_scores = []\n",
    "for item in new_res:\n",
    "    temp_score = item[1]\n",
    "#     print(temp_score)\n",
    "    b = np.array([temp_score[0]*sumTime, temp_score[1]*sumDerivative, temp_score[2]*sumInfinite, temp_score[3]*sumInstability, temp_score[4]*sumMinmax])\n",
    "\n",
    "    x = lsq_linear(A, b, bounds=(0, 1))\n",
    "    sol = x[\"x\"]\n",
    "    \n",
    "    new_sol = []\n",
    "    for i in range(len(sol)):\n",
    "        if sol[i] >= 0.4:\n",
    "            new_sol.append(1)\n",
    "        else:\n",
    "            new_sol.append(0)\n",
    "#     new_sol = [round(sol[i]) for i in range(len(sol))]\n",
    "    new_scores.append([new_sol, costFunction(new_sol, time_metric, number_tc, project, [], [], [], [])])\n",
    "#     print(costFunction(new_sol, time_metric, number_tc, project, [], [], [], []))\n",
    "#     print(\"\")\n",
    "\n",
    "end_time = time.time()\n",
    "print(\"time, \", end_time-start_time)"
   ]
  },
  {
   "cell_type": "code",
   "execution_count": 472,
   "id": "waiting-durham",
   "metadata": {},
   "outputs": [
    {
     "name": "stdout",
     "output_type": "stream",
     "text": [
      "[0.38, 0.63, 0.63, 0.49, 0.63]\n",
      "[0.08, 0.08, 0.08, 0.08, 0.08]\n",
      "\n",
      "0.3771035727557467\n",
      "0.0\n"
     ]
    }
   ],
   "source": [
    "mmm = []\n",
    "stddd = []\n",
    "\n",
    "for i in range(len(new_scores[0][1])):\n",
    "    temp_list = [new_scores[j][1][i] for j in range(len(new_scores))]\n",
    "    if i == 0:\n",
    "        mmm.append(round(statistics.mean(temp_list), 2))\n",
    "    else:\n",
    "        mmm.append(round(statistics.mean(temp_list), 2))\n",
    "    stddd.append(round(statistics.stdev(temp_list), 2))\n",
    "\n",
    "print(mmm)\n",
    "print(stddd)\n",
    "\n",
    "temp_ppp = [new_scores[i][0] for i in range(len(new_scores))]\n",
    "G3 = []\n",
    "time3 = []\n",
    "mutantScore3 = []\n",
    "for item in temp_ppp:\n",
    "    t, m = fitnessFunctionTime_detectedMutants(item, time_metric, project)\n",
    "    time3.append(t)\n",
    "    mutantScore3.append(m)\n",
    "    G3.append([t, m])\n",
    "P = []\n",
    "\n",
    "print(\"\")\n",
    "print(statistics.mean(time3))\n",
    "print(statistics.mean(mutantScore3))"
   ]
  },
  {
   "cell_type": "code",
   "execution_count": 453,
   "id": "theoretical-parameter",
   "metadata": {},
   "outputs": [
    {
     "name": "stdout",
     "output_type": "stream",
     "text": [
      "population  0\n",
      "population  1000\n",
      "population  2000\n",
      "population  3000\n",
      "population  4000\n",
      "population  5000\n",
      "population  6000\n",
      "population  7000\n",
      "population  8000\n",
      "population  9000\n",
      "starting sway\n",
      "time,  12.798874616622925\n"
     ]
    }
   ],
   "source": [
    "## run this to use sway with no evolutionary\n",
    "# set project and read TCD data\n",
    "project = \"EMB\"\n",
    "\n",
    "# set param for each project\n",
    "if project == \"Twotanks\":\n",
    "    TCD = loadTCDData(project)\n",
    "    nInputs, nOutputs = 11, 7\n",
    "    number_tc = 150\n",
    "    time_metric = [TCD['TCData'][0][i][0][0][0] for i in range(number_tc)]\n",
    "elif project == \"ACEngine\":\n",
    "    TCD = loadTCDData(project)\n",
    "    nInputs, nOutputs = 4, 1\n",
    "    number_tc = 120\n",
    "    time_metric = [TCD['test_case'][0][i][1][0][0] for i in range(number_tc)]\n",
    "elif project == \"EMB\":\n",
    "    TCD = loadTCDData(project)\n",
    "    nInputs, nOutputs = 1, 1\n",
    "    number_tc = 150\n",
    "    time_metric = [TCD['TCData'][0][i][0][0][-1][0][0] for i in range(number_tc)]\n",
    "elif project == \"CW\":\n",
    "    TCD = loadTCDData(project)\n",
    "    nInputs, nOutputs = 15, 4\n",
    "    number_tc = 133\n",
    "    time_metric = [TCD['time_testCases'][i][0] for i in range(number_tc)]\n",
    "    \n",
    "pop_size = 10000\n",
    "max_gen = 250\n",
    "\n",
    "# create starting population\n",
    "# number_tc = 150\n",
    "# population = np.concatenate((np.array(generate_pop(pop_size, number_tc)), population_nsga2), axis=0)\n",
    "population = np.array(generate_pop(pop_size, number_tc))\n",
    "\n",
    "start_time = time.time()\n",
    "scores = []\n",
    "for idx, pop in enumerate(population):\n",
    "    if idx % 1000 == 0:\n",
    "        print(\"population \", idx)\n",
    "        \n",
    "    scores.append([list(pop), costFunction(pop, time_metric, number_tc, project, [], [], [], [])])\n",
    "\n",
    "print(\"starting sway\")\n",
    "res = sway_runner(scores)\n",
    "end_time = time.time()\n",
    "print(\"time, \", end_time-start_time)"
   ]
  },
  {
   "cell_type": "code",
   "execution_count": 454,
   "id": "interpreted-highlight",
   "metadata": {},
   "outputs": [
    {
     "name": "stdout",
     "output_type": "stream",
     "text": [
      "[0.61, 0.62, 0.62, 0.63, 0.62]\n",
      "[0.02, 0.02, 0.02, 0.02, 0.02]\n",
      "0.6096777618516749\n",
      "0.019230769230769225\n"
     ]
    }
   ],
   "source": [
    "mm = []\n",
    "stdd = []\n",
    "\n",
    "for i in range(len(res[0][1])):\n",
    "    temp_list = [res[j][1][i] for j in range(len(res))]\n",
    "    if i == 0:\n",
    "        mm.append(round(statistics.mean(temp_list), 2))\n",
    "    else:\n",
    "        mm.append(round(statistics.mean(temp_list), 2))\n",
    "    stdd.append(round(statistics.stdev(temp_list), 2))\n",
    "\n",
    "print(mm)\n",
    "print(stdd)\n",
    "\n",
    "temp_pp = [res[i][0] for i in range(len(res))]\n",
    "G2 = []\n",
    "time2 = []\n",
    "mutantScore2 = []\n",
    "for item in temp_pp:\n",
    "    t, m = fitnessFunctionTime_detectedMutants(item, time_metric, project)\n",
    "    time2.append(t)\n",
    "    mutantScore2.append(m)\n",
    "    G2.append([t, m])\n",
    "P = []\n",
    "\n",
    "print(statistics.mean(time2))\n",
    "print(statistics.mean(mutantScore2))"
   ]
  },
  {
   "cell_type": "code",
   "execution_count": null,
   "id": "pressing-investment",
   "metadata": {},
   "outputs": [],
   "source": [
    "from matplotlib import pyplot as plt\n",
    "\n",
    "xx = [\"Time\", \"Discontinuity\", \"Infinity\", \"Instability\", \"MinMax\"]\n",
    "plt.scatter(xx, tt_mean, marker=\"v\", label=\"nsga-II\")\n",
    "plt.scatter(xx, mm, marker=\"^\", label=\"sway\")\n",
    "plt.legend()"
   ]
  },
  {
   "cell_type": "code",
   "execution_count": 98,
   "id": "canadian-uganda",
   "metadata": {},
   "outputs": [],
   "source": [
    "pareto_front = identify_pareto_1(scores)"
   ]
  },
  {
   "cell_type": "code",
   "execution_count": 35,
   "id": "english-married",
   "metadata": {},
   "outputs": [
    {
     "data": {
      "text/plain": [
       "array([  0,   1,   2,   3,   4,   5,   6,   7,   8,   9,  10,  11,  12,\n",
       "        13,  14,  15,  16,  17,  18,  19,  20,  21,  22,  23,  24,  25,\n",
       "        26,  27,  28,  29,  32,  33,  34,  35,  36,  37,  38,  39,  40,\n",
       "        42,  44,  45,  46,  47,  48,  49,  50,  51,  52,  53,  54,  55,\n",
       "        56,  57,  58,  60,  61,  62,  63,  65,  66,  67,  69,  70,  71,\n",
       "        72,  74,  75,  76,  77,  79,  80,  81,  82,  83,  84,  85,  86,\n",
       "        87,  88,  89,  91,  95,  96,  99, 100, 101, 104, 108, 111, 112,\n",
       "       113, 116, 119, 120, 122, 123])"
      ]
     },
     "execution_count": 35,
     "metadata": {},
     "output_type": "execute_result"
    }
   ],
   "source": [
    "pareto_front"
   ]
  },
  {
   "cell_type": "code",
   "execution_count": 36,
   "id": "expensive-samba",
   "metadata": {},
   "outputs": [
    {
     "data": {
      "text/plain": [
       "[<matplotlib.lines.Line2D at 0x7f6939ec7e50>]"
      ]
     },
     "execution_count": 36,
     "metadata": {},
     "output_type": "execute_result"
    },
    {
     "data": {
      "image/png": "[encoded data removed]",
      "text/plain": [
       "<Figure size 432x288 with 1 Axes>"
      ]
     },
     "metadata": {
      "needs_background": "light"
     },
     "output_type": "display_data"
    }
   ],
   "source": [
    "x = [scores[i][0] for i in range(len(scores))]\n",
    "y = [scores[i][1] for i in range(len(scores))]\n",
    "xx = [scores[i][0] for i in pareto_front]\n",
    "yy = [scores[i][1] for i in pareto_front]\n",
    "\n",
    "plt.plot(x, y, '.')\n",
    "plt.plot(xx, yy, '.')"
   ]
  },
  {
   "cell_type": "code",
   "execution_count": 179,
   "id": "approximate-miracle",
   "metadata": {},
   "outputs": [
    {
     "data": {
      "image/png": "[encoded data removed]",
      "text/plain": [
       "<Figure size 432x288 with 1 Axes>"
      ]
     },
     "metadata": {
      "needs_background": "light"
     },
     "output_type": "display_data"
    }
   ],
   "source": [
    "x_nsga2 = [item[0] for item in G1]\n",
    "y_nsga2 = [item[1] for item in G1]\n",
    "x_sway = [item[0] for item in G2]\n",
    "y_sway = [item[1] for item in G2]\n",
    "x_lsq = [item[0] for item in G3]\n",
    "y_lsq = [item[1] for item in G3]\n",
    "\n",
    "plt.scatter(x_nsga2, y_nsga2, marker=\".\", label=\"nsgaII\")\n",
    "plt.scatter(x_sway, y_sway, marker=\".\", label=\"sway\")\n",
    "plt.scatter(x_lsq, y_lsq, marker=\".\", label=\"lsq\")\n",
    "plt.xlabel(\"test execution time\")\n",
    "plt.ylabel(\"number of non-detected mutants\")\n",
    "plt.legend()\n",
    "plt.show()"
   ]
  },
  {
   "cell_type": "code",
   "execution_count": 54,
   "id": "bound-australian",
   "metadata": {},
   "outputs": [],
   "source": [
    "hv = calcHV(G3, P)\n",
    "ms_tet = calcMSTET(G3)"
   ]
  },
  {
   "cell_type": "code",
   "execution_count": 55,
   "id": "angry-railway",
   "metadata": {},
   "outputs": [
    {
     "data": {
      "text/plain": [
       "0.9906802183000003"
      ]
     },
     "execution_count": 55,
     "metadata": {},
     "output_type": "execute_result"
    }
   ],
   "source": [
    "hv"
   ]
  },
  {
   "cell_type": "code",
   "execution_count": 56,
   "id": "reflected-fighter",
   "metadata": {},
   "outputs": [
    {
     "data": {
      "text/plain": [
       "0.8988553826285042"
      ]
     },
     "execution_count": 56,
     "metadata": {},
     "output_type": "execute_result"
    }
   ],
   "source": [
    "ms_tet"
   ]
  },
  {
   "cell_type": "code",
   "execution_count": null,
   "id": "educated-alarm",
   "metadata": {},
   "outputs": [],
   "source": []
  }
 ],
 "metadata": {
  "kernelspec": {
   "display_name": "py39",
   "language": "python",
   "name": "py39"
  },
  "language_info": {
   "codemirror_mode": {
    "name": "ipython",
    "version": 3
   },
   "file_extension": ".py",
   "mimetype": "text/x-python",
   "name": "python",
   "nbconvert_exporter": "python",
   "pygments_lexer": "ipython3",
   "version": "3.9.4"
  }
 },
 "nbformat": 4,
 "nbformat_minor": 5
}
